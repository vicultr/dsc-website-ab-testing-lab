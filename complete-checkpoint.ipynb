{
 "cells": [
  {
   "cell_type": "markdown",
   "metadata": {},
   "source": [
    "# Website A/B Testing - Lab\n",
    "\n",
    "## Introduction\n",
    "\n",
    "In this lab, you'll get another chance to practice your skills at conducting a full A/B test analysis. It will also be a chance to practice your data exploration and processing skills! The scenario you'll be investigating is data collected from the homepage of a music app page for audacity.\n",
    "\n",
    "## Objectives\n",
    "\n",
    "You will be able to:\n",
    "* Analyze the data from a website A/B test to draw relevant conclusions\n",
    "* Explore and analyze web action data"
   ]
  },
  {
   "cell_type": "markdown",
   "metadata": {},
   "source": [
    "## Exploratory Analysis\n",
    "\n",
    "Start by loading in the dataset stored in the file 'homepage_actions.csv'. Then conduct an exploratory analysis to get familiar with the data."
   ]
  },
  {
   "cell_type": "markdown",
   "metadata": {},
   "source": [
    "> Hints:\n",
    "    * Start investigating the id column:\n",
    "        * How many viewers also clicked?\n",
    "        * Are there any anomalies with the data; did anyone click who didn't view?\n",
    "        * Is there any overlap between the control and experiment groups? \n",
    "            * If so, how do you plan to account for this in your experimental design?"
   ]
  },
  {
   "cell_type": "code",
   "execution_count": 11,
   "metadata": {},
   "outputs": [
    {
     "name": "stdout",
     "output_type": "stream",
     "text": [
      "                    timestamp      id       group action\n",
      "0  2016-09-24 17:42:27.839496  804196  experiment   view\n",
      "1  2016-09-24 19:19:03.542569  434745  experiment   view\n",
      "2  2016-09-24 19:36:00.944135  507599  experiment   view\n",
      "3  2016-09-24 19:59:02.646620  671993     control   view\n",
      "4  2016-09-24 20:26:14.466886  536734  experiment   view\n",
      "<class 'pandas.core.frame.DataFrame'>\n",
      "RangeIndex: 8188 entries, 0 to 8187\n",
      "Data columns (total 4 columns):\n",
      " #   Column     Non-Null Count  Dtype \n",
      "---  ------     --------------  ----- \n",
      " 0   timestamp  8188 non-null   object\n",
      " 1   id         8188 non-null   int64 \n",
      " 2   group      8188 non-null   object\n",
      " 3   action     8188 non-null   object\n",
      "dtypes: int64(1), object(3)\n",
      "memory usage: 256.0+ KB\n",
      "None\n",
      "                  id\n",
      "count    8188.000000\n",
      "mean   564699.749878\n",
      "std    219085.845672\n",
      "min    182988.000000\n",
      "25%    373637.500000\n",
      "50%    566840.500000\n",
      "75%    758078.000000\n",
      "max    937217.000000\n",
      "action\n",
      "click    1860\n",
      "view     6328\n",
      "Name: id, dtype: int64\n",
      "True    1860\n",
      "Name: id, dtype: int64\n",
      "1    6328\n",
      "Name: group, dtype: int64\n",
      "group       action\n",
      "control     click      932\n",
      "            view      3332\n",
      "experiment  click      928\n",
      "            view      2996\n",
      "Name: id, dtype: int64\n",
      "group\n",
      "control       0.279712\n",
      "experiment    0.309746\n",
      "Name: id, dtype: float64\n",
      "Z-Statistic: -2.618563885349469, P-Value: 0.008830075576595804\n"
     ]
    }
   ],
   "source": [
    "#Your code here\n",
    "import pandas as pd\n",
    "\n",
    "# Load the data\n",
    "data = pd.read_csv('homepage_actions.csv')\n",
    "\n",
    "# Display basic info\n",
    "print(data.head())\n",
    "print(data.info())\n",
    "print(data.describe())\n",
    "\n",
    "actions_summary = data.groupby('action')['id'].nunique()\n",
    "print(actions_summary)\n",
    "\n",
    "clicks_without_view = data[data['action'] == 'click']['id'].isin(\n",
    "    data[data['action'] == 'view']['id']\n",
    ").value_counts()\n",
    "print(clicks_without_view)\n",
    "\n",
    "overlap = data.groupby('id')['group'].nunique().value_counts()\n",
    "print(overlap)\n",
    "\n",
    "group_action_summary = data.groupby(['group', 'action'])['id'].nunique()\n",
    "print(group_action_summary)\n",
    "\n",
    "ids_with_overlap = data.groupby('id')['group'].nunique()\n",
    "overlapping_ids = ids_with_overlap[ids_with_overlap > 1].index\n",
    "\n",
    "# Remove overlapping users\n",
    "clean_data = data[~data['id'].isin(overlapping_ids)]\n",
    "\n",
    "conversion_rates = clean_data[clean_data['action'] == 'click'].groupby('group')['id'].nunique() / \\\n",
    "                   clean_data[clean_data['action'] == 'view'].groupby('group')['id'].nunique()\n",
    "print(conversion_rates)\n",
    "\n",
    "from statsmodels.stats.proportion import proportions_ztest\n",
    "\n",
    "# Successes and trials\n",
    "clicks = clean_data[clean_data['action'] == 'click'].groupby('group')['id'].nunique()\n",
    "views = clean_data[clean_data['action'] == 'view'].groupby('group')['id'].nunique()\n",
    "\n",
    "# Perform z-test\n",
    "z_stat, p_value = proportions_ztest(clicks, views)\n",
    "print(f\"Z-Statistic: {z_stat}, P-Value: {p_value}\")\n",
    "\n"
   ]
  },
  {
   "cell_type": "markdown",
   "metadata": {},
   "source": [
    "## Conduct a Statistical Test\n",
    "\n",
    "Conduct a statistical test to determine whether the experimental homepage was more effective than that of the control group."
   ]
  },
  {
   "cell_type": "code",
   "execution_count": 12,
   "metadata": {},
   "outputs": [
    {
     "name": "stdout",
     "output_type": "stream",
     "text": [
      "Clicks:\n",
      "group\n",
      "control       932\n",
      "experiment    928\n",
      "Name: id, dtype: int64\n",
      "\n",
      "Views:\n",
      "group\n",
      "control       3332\n",
      "experiment    2996\n",
      "Name: id, dtype: int64\n",
      "\n",
      "Z-Statistic: 2.618563885349469\n",
      "P-Value: 0.004415037788297902\n"
     ]
    }
   ],
   "source": [
    "#Your code here\n",
    "# Filter clicks and views by group\n",
    "clicks = clean_data[clean_data['action'] == 'click'].groupby('group')['id'].nunique()\n",
    "views = clean_data[clean_data['action'] == 'view'].groupby('group')['id'].nunique()\n",
    "\n",
    "# Display the counts\n",
    "print(f\"Clicks:\\n{clicks}\\n\")\n",
    "print(f\"Views:\\n{views}\\n\")\n",
    "from statsmodels.stats.proportion import proportions_ztest\n",
    "\n",
    "# Successes (clicks) and trials (views)\n",
    "successes = [clicks['experiment'], clicks['control']]\n",
    "trials = [views['experiment'], views['control']]\n",
    "\n",
    "# Perform the one-tailed z-test\n",
    "z_stat, p_value = proportions_ztest(successes, trials, alternative='larger')\n",
    "\n",
    "print(f\"Z-Statistic: {z_stat}\")\n",
    "print(f\"P-Value: {p_value}\")\n"
   ]
  },
  {
   "cell_type": "markdown",
   "metadata": {},
   "source": [
    "## Verifying Results\n",
    "\n",
    "One sensible formulation of the data to answer the hypothesis test above would be to create a binary variable representing each individual in the experiment and control group. This binary variable would represent whether or not that individual clicked on the homepage; 1 for they did and 0 if they did not. \n",
    "\n",
    "The variance for the number of successes in a sample of a binomial variable with n observations is given by:\n",
    "\n",
    "## $n\\bullet p (1-p)$\n",
    "\n",
    "Given this, perform 3 steps to verify the results of your statistical test:\n",
    "1. Calculate the expected number of clicks for the experiment group, if it had the same click-through rate as that of the control group. \n",
    "2. Calculate the number of standard deviations that the actual number of clicks was from this estimate. \n",
    "3. Finally, calculate a p-value using the normal distribution based on this z-score."
   ]
  },
  {
   "cell_type": "markdown",
   "metadata": {},
   "source": [
    "### Step 1:\n",
    "Calculate the expected number of clicks for the experiment group, if it had the same click-through rate as that of the control group. "
   ]
  },
  {
   "cell_type": "code",
   "execution_count": 13,
   "metadata": {},
   "outputs": [
    {
     "name": "stdout",
     "output_type": "stream",
     "text": [
      "Expected Clicks (Experiment Group): 838.0168067226891\n"
     ]
    }
   ],
   "source": [
    "#Your code here\n",
    "# CTR of the control group\n",
    "p_control = clicks['control'] / views['control']\n",
    "\n",
    "# Expected clicks for the experiment group\n",
    "expected_clicks_experiment = views['experiment'] * p_control\n",
    "print(f\"Expected Clicks (Experiment Group): {expected_clicks_experiment}\")\n"
   ]
  },
  {
   "cell_type": "markdown",
   "metadata": {},
   "source": [
    "### Step 2:\n",
    "Calculate the number of standard deviations that the actual number of clicks was from this estimate."
   ]
  },
  {
   "cell_type": "code",
   "execution_count": 14,
   "metadata": {},
   "outputs": [
    {
     "name": "stdout",
     "output_type": "stream",
     "text": [
      "Z-Score: 3.6625360854823588\n"
     ]
    }
   ],
   "source": [
    "#Your code here\n",
    "import numpy as np\n",
    "\n",
    "# Standard deviation\n",
    "std_dev = np.sqrt(views['experiment'] * p_control * (1 - p_control))\n",
    "\n",
    "# Z-score\n",
    "z_score = (clicks['experiment'] - expected_clicks_experiment) / std_dev\n",
    "print(f\"Z-Score: {z_score}\")\n"
   ]
  },
  {
   "cell_type": "markdown",
   "metadata": {},
   "source": [
    "### Step 3: \n",
    "Finally, calculate a p-value using the normal distribution based on this z-score."
   ]
  },
  {
   "cell_type": "code",
   "execution_count": 15,
   "metadata": {},
   "outputs": [
    {
     "name": "stdout",
     "output_type": "stream",
     "text": [
      "P-Value: 0.00012486528006949715\n"
     ]
    }
   ],
   "source": [
    "#Your code here\n",
    "from scipy.stats import norm\n",
    "\n",
    "# P-value\n",
    "p_value_manual = 1 - norm.cdf(z_score)\n",
    "print(f\"P-Value: {p_value_manual}\")\n"
   ]
  },
  {
   "cell_type": "markdown",
   "metadata": {},
   "source": [
    "### Analysis:\n",
    "\n",
    "Does this result roughly match that of the previous statistical test?\n",
    "\n",
    "> Comment: **Your analysis here**"
   ]
  },
  {
   "cell_type": "markdown",
   "metadata": {},
   "source": [
    "## Summary\n",
    "\n",
    "In this lab, you continued to get more practice designing and conducting AB tests. This required additional work preprocessing and formulating the initial problem in a suitable manner. Additionally, you also saw how to verify results, strengthening your knowledge of binomial variables, and reviewing initial statistical concepts of the central limit theorem, standard deviation, z-scores, and their accompanying p-values."
   ]
  }
 ],
 "metadata": {
  "kernelspec": {
   "display_name": "Python 3",
   "language": "python",
   "name": "python3"
  },
  "language_info": {
   "codemirror_mode": {
    "name": "ipython",
    "version": 3
   },
   "file_extension": ".py",
   "mimetype": "text/x-python",
   "name": "python",
   "nbconvert_exporter": "python",
   "pygments_lexer": "ipython3",
   "version": "3.8.5"
  }
 },
 "nbformat": 4,
 "nbformat_minor": 2
}
